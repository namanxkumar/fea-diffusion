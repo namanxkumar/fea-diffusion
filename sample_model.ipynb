{
 "cells": [
  {
   "cell_type": "code",
   "execution_count": 1,
   "metadata": {},
   "outputs": [
    {
     "name": "stderr",
     "output_type": "stream",
     "text": [
      "/home/namanwsl/anaconda3/envs/fea/lib/python3.8/site-packages/tqdm/auto.py:21: TqdmWarning: IProgress not found. Please update jupyter and ipywidgets. See https://ipywidgets.readthedocs.io/en/stable/user_install.html\n",
      "  from .autonotebook import tqdm as notebook_tqdm\n"
     ]
    }
   ],
   "source": [
    "from model.fdnunet import FDNUNet\n",
    "\n",
    "import torch\n",
    "import torch.nn.functional as F\n",
    "from torch import Tensor\n",
    "\n",
    "from pathlib import Path\n",
    "from PIL import Image\n",
    "import numpy as np\n",
    "\n",
    "import matplotlib.pyplot as plt\n",
    "import accelerate\n",
    "from accelerate import Accelerator\n",
    "from ema_pytorch import EMA"
   ]
  },
  {
   "cell_type": "code",
   "execution_count": 2,
   "metadata": {},
   "outputs": [],
   "source": [
    "model = FDNUNet(\n",
    "    input_dim=64,\n",
    "    num_channels=2, # geometry/displacement (2)\n",
    "    # num_condition_channels=1, # geometry (1)\n",
    "    num_auxiliary_condition_channels=3, # constraints (1) + force (2)\n",
    "    num_stages=4\n",
    ")"
   ]
  },
  {
   "cell_type": "code",
   "execution_count": 3,
   "metadata": {},
   "outputs": [],
   "source": [
    "def normalize_by_division(tensor: Tensor, value: float) -> Tensor:\n",
    "        return tensor / value\n",
    "\n",
    "def normalize_to_negative_one_to_one(tensor: Tensor) -> Tensor:\n",
    "    return tensor * 2.0 - 1.0\n",
    "\n",
    "def unnormalize_from_negative_one_to_one(tensor: Tensor) -> Tensor:\n",
    "        return (tensor + 1.0) / 2.0"
   ]
  },
  {
   "cell_type": "code",
   "execution_count": 4,
   "metadata": {},
   "outputs": [],
   "source": [
    "image_size = 256"
   ]
  },
  {
   "cell_type": "code",
   "execution_count": 5,
   "metadata": {},
   "outputs": [],
   "source": [
    "import torchvision.transforms as transforms\n",
    "import torchvision.transforms.functional as TF\n",
    "transform = transforms.Compose(\n",
    "    [\n",
    "        transforms.Resize((image_size, image_size)),\n",
    "        transforms.Grayscale(),\n",
    "        # transforms.RandomHorizontalFlip() if self.augmentation else transforms.Lambda(lambda x: x),\n",
    "        # transforms.RandomVerticalFlip() if self.augmentation else transforms.Lambda(lambda x: x),\n",
    "        transforms.PILToTensor(),\n",
    "        transforms.Lambda(lambda x: normalize_by_division(x, 255.0)),\n",
    "        transforms.Lambda(lambda x: TF.invert(x)),\n",
    "    ]\n",
    ")"
   ]
  },
  {
   "cell_type": "code",
   "execution_count": 6,
   "metadata": {},
   "outputs": [],
   "source": [
    "path =  Path('')"
   ]
  },
  {
   "cell_type": "code",
   "execution_count": 7,
   "metadata": {},
   "outputs": [],
   "source": [
    "geometry = normalize_to_negative_one_to_one(\n",
    "    transform(Image.open(path / \"testgeometry.png\")) * 0.5\n",
    ")\n",
    "geometry = torch.cat((geometry, geometry), dim=0).unsqueeze(0)\n",
    "constraints = [\n",
    "    transform(Image.open(path / \"testconstraint.png\")),\n",
    "]\n",
    "constraints = normalize_to_negative_one_to_one(\n",
    "    F.threshold(\n",
    "        torch.clamp(\n",
    "            255 * torch.sum(torch.stack(constraints, dim=0), dim=0),\n",
    "            min=0,\n",
    "            max=1.0,\n",
    "        ),\n",
    "        0.5,\n",
    "        0.0,\n",
    "    ).int()\n",
    ").float().unsqueeze(0)\n",
    "\n",
    "magnitudes = [(\"testload.png\", (0, 2700))]\n",
    "forces = []\n",
    "\n",
    "for name, values in magnitudes:\n",
    "    force_tensor = transform(Image.open(path / str(name)))\n",
    "    force_tensor = torch.clamp(255 * force_tensor, min=0, max=1.0)\n",
    "    normalized_magnitude = tuple(\n",
    "        map(\n",
    "            lambda value: np.sign(value) * ((float(abs(value)) - 0) / (5000 - 0)),\n",
    "            values,\n",
    "        )\n",
    "    )\n",
    "    forces.append(\n",
    "        torch.cat(\n",
    "            (\n",
    "                force_tensor * normalized_magnitude[0],\n",
    "                force_tensor * normalized_magnitude[1],\n",
    "            ),\n",
    "            dim=0,\n",
    "        )\n",
    "    )\n",
    "\n",
    "forces = torch.clamp(torch.sum(torch.stack(forces, dim=0), dim=0), min=-1.0, max=1.0).unsqueeze(0)"
   ]
  },
  {
   "cell_type": "code",
   "execution_count": 8,
   "metadata": {},
   "outputs": [],
   "source": [
    "device = torch.device(\"cpu\")"
   ]
  },
  {
   "cell_type": "code",
   "execution_count": 9,
   "metadata": {},
   "outputs": [],
   "source": [
    "ema_model = EMA(model)"
   ]
  },
  {
   "cell_type": "code",
   "execution_count": 10,
   "metadata": {},
   "outputs": [],
   "source": [
    "# checkpoint = torch.load(\"results/model-186/custom_checkpoint_0.pkl\", map_location=device)\n",
    "# print(checkpoint.keys())\n",
    "# accelerate.load_checkpoint_in_model(ema_model, \"results/model-213/custom_checkpoint_0.pkl\")\n",
    "accelerate.load_checkpoint_in_model(model, \"results/model-213\")"
   ]
  },
  {
   "cell_type": "code",
   "execution_count": 11,
   "metadata": {},
   "outputs": [],
   "source": [
    "conditions = torch.cat((forces, constraints), dim=1)\n",
    "# ema_model.ema_model.to(device)\n",
    "model.to(device)\n",
    "# prediction = ema_model.ema_model(geometry.to(device), conditions.to(device))\n",
    "prediction = model(geometry.to(device), conditions.to(device))\n",
    "prediction = unnormalize_from_negative_one_to_one(prediction) * unnormalize_from_negative_one_to_one(geometry)"
   ]
  },
  {
   "cell_type": "code",
   "execution_count": 12,
   "metadata": {},
   "outputs": [
    {
     "data": {
      "text/plain": [
       "<matplotlib.image.AxesImage at 0x7f1c7eb96dc0>"
      ]
     },
     "execution_count": 12,
     "metadata": {},
     "output_type": "execute_result"
    },
    {
     "data": {
      "image/png": "[encoded data removed]",
      "text/plain": [
       "<Figure size 640x480 with 5 Axes>"
      ]
     },
     "metadata": {},
     "output_type": "display_data"
    }
   ],
   "source": [
    "figure = plt.figure()\n",
    "figure.add_subplot(2, 3, 1)\n",
    "plt.axis(\"off\")\n",
    "plt.title(\"Geometry\")\n",
    "plt.imshow(unnormalize_from_negative_one_to_one(geometry[0, 0, :, :].detach().numpy()), cmap=\"Greys\")\n",
    "figure.add_subplot(2, 3, 2)\n",
    "plt.axis(\"off\")\n",
    "plt.title(\"Forces\")\n",
    "plt.imshow(unnormalize_from_negative_one_to_one(forces[0, 1, :, :].detach().numpy()), cmap=\"Greys\")\n",
    "figure.add_subplot(2, 3, 3)\n",
    "plt.axis(\"off\")\n",
    "plt.title(\"Constraints\")\n",
    "plt.imshow(unnormalize_from_negative_one_to_one(constraints[0, 0, :, :].detach().numpy()), cmap=\"Greys\")\n",
    "figure.add_subplot(2, 3, 4)\n",
    "plt.axis(\"off\")\n",
    "plt.title(\"Displacement X\")\n",
    "plt.imshow(prediction[0, 0, :, :].detach().numpy(), cmap=\"Greys\")\n",
    "figure.add_subplot(2, 3, 5)\n",
    "plt.axis(\"off\")\n",
    "plt.title(\"Displacement Y\")\n",
    "plt.imshow(prediction[0, 1, :, :].detach().numpy(), cmap=\"Greys\")"
   ]
  }
 ],
 "metadata": {
  "kernelspec": {
   "display_name": "fea",
   "language": "python",
   "name": "python3"
  },
  "language_info": {
   "codemirror_mode": {
    "name": "ipython",
    "version": 3
   },
   "file_extension": ".py",
   "mimetype": "text/x-python",
   "name": "python",
   "nbconvert_exporter": "python",
   "pygments_lexer": "ipython3",
   "version": "3.8.17"
  },
  "orig_nbformat": 4
 },
 "nbformat": 4,
 "nbformat_minor": 2
}
