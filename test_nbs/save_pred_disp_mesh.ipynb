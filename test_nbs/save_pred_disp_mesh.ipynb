{
 "cells": [
  {
   "cell_type": "code",
   "execution_count": 1,
   "metadata": {},
   "outputs": [],
   "source": [
    "from metrics.accuracy_function import calculate_predicted_displacement_at_nodes\n",
    "import meshio\n",
    "import numpy as np"
   ]
  },
  {
   "cell_type": "code",
   "execution_count": 2,
   "metadata": {},
   "outputs": [
    {
     "name": "stdout",
     "output_type": "stream",
     "text": [
      "<meshio mesh object>\n",
      "  Number of points: 2464\n",
      "  Number of cells:\n",
      "    triangle: 4686\n",
      "  Point data: u, node_groups\n",
      "  Cell data: mat_id\n"
     ]
    }
   ],
   "source": [
    "mesh = meshio.read(\"applications/cantilever/cantilever.vtk\")\n",
    "print(mesh)"
   ]
  },
  {
   "cell_type": "code",
   "execution_count": 3,
   "metadata": {},
   "outputs": [],
   "source": [
    "points = mesh.points\n",
    "cells = [(\"triangle\", mesh.cells[0].data)]\n",
    "displacement = np.concatenate(\n",
    "    (\n",
    "        calculate_predicted_displacement_at_nodes(\n",
    "            \"applications/cantilever/cantilever.vtk\",\n",
    "            \"applications/cantilever/predicted_displacement_x.png\",\n",
    "            \"applications/cantilever/predicted_displacement_y.png\",\n",
    "            \"applications/cantilever/geometry.png\",\n",
    "            256,\n",
    "        ),\n",
    "        np.zeros((points.shape[0], 1)),\n",
    "    ),\n",
    "    axis=1,\n",
    ")\n",
    "# print(displacement.shape)\n",
    "mesh = meshio.Mesh(\n",
    "    points=points,\n",
    "    cells=cells,\n",
    "    point_data={\n",
    "        \"u\": displacement,\n",
    "        \"node_groups\": mesh.point_data['node_groups']\n",
    "    },\n",
    "    cell_data={\n",
    "        \"mat_id\": mesh.cell_data[\"mat_id\"],\n",
    "    }\n",
    ")\n",
    "mesh.write(\"test.vtk\")"
   ]
  }
 ],
 "metadata": {
  "kernelspec": {
   "display_name": "fea",
   "language": "python",
   "name": "python3"
  },
  "language_info": {
   "codemirror_mode": {
    "name": "ipython",
    "version": 3
   },
   "file_extension": ".py",
   "mimetype": "text/x-python",
   "name": "python",
   "nbconvert_exporter": "python",
   "pygments_lexer": "ipython3",
   "version": "3.8.17"
  },
  "orig_nbformat": 4
 },
 "nbformat": 4,
 "nbformat_minor": 2
}
