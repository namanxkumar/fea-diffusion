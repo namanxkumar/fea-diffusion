{
 "cells": [
  {
   "cell_type": "code",
   "execution_count": 5,
   "metadata": {},
   "outputs": [],
   "source": [
    "from metrics.accuracy_function import calculate_accuracy_for_one_sample"
   ]
  },
  {
   "cell_type": "code",
   "execution_count": 11,
   "metadata": {},
   "outputs": [
    {
     "name": "stdout",
     "output_type": "stream",
     "text": [
      "(0.03519040172689875, 0.0017648898150791313, 0.04201059170113093)\n"
     ]
    }
   ],
   "source": [
    "print(\n",
    "    calculate_accuracy_for_one_sample(\n",
    "        \"applications/shearblade/shearblade.vtk\",\n",
    "        \"applications/shearblade/predicted_displacement_x.png\",\n",
    "        \"applications/shearblade/predicted_displacement_y.png\",\n",
    "        \"applications/shearblade/geometry.png\",\n",
    "        256,\n",
    "    )\n",
    ")"
   ]
  },
  {
   "cell_type": "code",
   "execution_count": 12,
   "metadata": {},
   "outputs": [
    {
     "name": "stdout",
     "output_type": "stream",
     "text": [
      "(0.009944122596598074, 0.00037351321846072, 0.0193264900709032)\n"
     ]
    }
   ],
   "source": [
    "print(\n",
    "    calculate_accuracy_for_one_sample(\n",
    "        \"applications/cantilever/cantilever.vtk\",\n",
    "        \"applications/cantilever/predicted_displacement_x.png\",\n",
    "        \"applications/cantilever/predicted_displacement_y.png\",\n",
    "        \"applications/cantilever/geometry.png\",\n",
    "        256,\n",
    "    )\n",
    ")"
   ]
  }
 ],
 "metadata": {
  "kernelspec": {
   "display_name": "fea",
   "language": "python",
   "name": "python3"
  },
  "language_info": {
   "codemirror_mode": {
    "name": "ipython",
    "version": 3
   },
   "file_extension": ".py",
   "mimetype": "text/x-python",
   "name": "python",
   "nbconvert_exporter": "python",
   "pygments_lexer": "ipython3",
   "version": "3.8.17"
  },
  "orig_nbformat": 4
 },
 "nbformat": 4,
 "nbformat_minor": 2
}
