{
 "cells": [
  {
   "cell_type": "code",
   "execution_count": 2,
   "metadata": {},
   "outputs": [
    {
     "name": "stdout",
     "output_type": "stream",
     "text": [
      "1\n",
      "1\n",
      "['VertexForce0,(3931, 752)\\n', 'EdgeForce0:(34.55263157894737, 63.93421052631579)\\n', 'EdgeForce1:(-25.52777777777778, 129.05555555555554)\\n', 'EdgeForce2:(-89.64, 92.88)\\n', 'EdgeForce3:(-48.166666666666664, -134.83333333333334)\\n', 'EdgeForce4:(32.54128440366973, -7.467889908256881)\\n', 'EdgeForce5:(107.38095238095238, 76.42857142857143)\\n']\n",
      "4\n",
      "['VertexForce0,(-2502, 3968)\\n', 'VertexForce1,(-2095, -3376)\\n', 'VertexForce2,(1177, -2690)\\n']\n",
      "input.png\n",
      "outline.png\n",
      "3\n",
      "['VertexForce0,(-4549, 1300)\\n', 'VertexForce1,(3782, 1850)\\n', 'EdgeForce0:(26.539473684210527, 42.723684210526315)\\n']\n",
      "2\n",
      "['EdgeForce0:(-41.75, -27.513157894736842)\\n', 'EdgeForce1:(62.266666666666666, 128.93333333333334)\\n', 'EdgeForce2:(95.61904761904762, 213.42857142857142)\\n']\n",
      "4\n",
      "1\n",
      "['VertexForce0:(2347, 4128)\\n', 'VertexForce1:(4291, -2145)\\n', 'EdgeForce0:(224.8125, -214.375)\\n', 'EdgeForce1:(16.372881355932204, 54.220338983050844)\\n', 'EdgeForce2:(-36.3859649122807, -71.2280701754386)\\n', 'EdgeForce3:(190.8181818181818, 79.63636363636364)\\n', 'EdgeForce4:(185.625, -227.0)\\n', 'EdgeForce5:(30.2, 105.8)\\n']\n",
      "4\n",
      "['EdgeForce0:(-22.029850746268657, 48.62686567164179)\\n']\n",
      "input.png\n",
      "outline.png\n",
      "3\n",
      "['VertexForce0:(-2838, 3977)\\n', 'VertexForce1:(2629, 537)\\n', 'EdgeForce0:(33.06666666666667, 99.95555555555555)\\n', 'EdgeForce1:(-124.125, 280.3125)\\n', 'EdgeForce2:(-29.983050847457626, -38.45762711864407)\\n', 'EdgeForce3:(40.18181818181818, 52.57575757575758)\\n', 'EdgeForce4:(110.3157894736842, 222.1578947368421)\\n', 'EdgeForce5:(37.333333333333336, 43.87719298245614)\\n', 'EdgeForce6:(53.285714285714285, 91.87755102040816)\\n', 'EdgeForce7:(-73.08955223880596, -74.44776119402985)\\n', 'EdgeForce8:(-254.83333333333334, 97.33333333333333)\\n', 'EdgeForce9:(-130.57142857142858, -83.91428571428571)\\n', 'EdgeForce10:(224.78571428571428, -121.07142857142857)\\n', 'EdgeForce11:(-64.91176470588235, 26.529411764705884)\\n', 'EdgeForce12:(44.63265306122449, -12.081632653061224)\\n', 'EdgeForce13:(203.0, -220.22727272727272)\\n', 'EdgeForce14:(-180.375, -190.3125)\\n', 'EdgeForce15:(-399.75, -333.75)\\n']\n",
      "2\n",
      "['VertexForce0:(-3991, -4796)\\n', 'EdgeForce0:(-30.666666666666668, 32.60606060606061)\\n', 'EdgeForce1:(146.375, 132.5)\\n', 'EdgeForce2:(56.43333333333333, 44.63333333333333)\\n', 'EdgeForce3:(-168.33333333333334, -281.0)\\n', 'EdgeForce4:(604.0, 96.75)\\n', 'EdgeForce5:(-69.48979591836735, -30.653061224489797)\\n', 'EdgeForce6:(43.542857142857144, -123.57142857142857)\\n', 'EdgeForce7:(78.21052631578948, 66.63157894736842)\\n', 'EdgeForce8:(26.441176470588236, -36.61764705882353)\\n', 'EdgeForce9:(-112.42105263157895, 136.21052631578948)\\n', 'EdgeForce10:(-22.6734693877551, -52.59183673469388)\\n', 'EdgeForce11:(76.05882352941177, 33.588235294117645)\\n', 'EdgeForce12:(331.4, -683.0)\\n', 'EdgeForce13:(-81.91836734693878, 95.55102040816327)\\n']\n",
      "3\n",
      "1\n",
      "['EdgeForce0:(62.8125, 59.270833333333336)\\n', 'EdgeForce1:(-59.46153846153846, 187.19230769230768)\\n']\n",
      "4\n",
      "['EdgeForce0:(-28.92233009708738, -16.50485436893204)\\n']\n",
      "input.png\n",
      "outline.png\n",
      "3\n",
      "['EdgeForce0:(-74.75, 63.395833333333336)\\n']\n",
      "2\n",
      "['EdgeForce0:(103.3076923076923, 44.92307692307692)\\n']\n",
      "2\n",
      "1\n",
      "['VertexForce0:(4738, -1958)\\n', 'VertexForce1:(2768, 1318)\\n', 'VertexForce2:(-4467, -4712)\\n', 'VertexForce3:(-962, 1727)\\n', 'VertexForce4:(-2006, -582)\\n', 'EdgeForce0:(415.4, 93.3)\\n', 'EdgeForce1:(-264.14285714285717, 706.5714285714286)\\n', 'EdgeForce2:(-30.069767441860463, -90.72093023255815)\\n', 'EdgeForce3:(13.777777777777779, 48.75555555555555)\\n', 'EdgeForce4:(-16.136363636363637, -33.02272727272727)\\n', 'EdgeForce5:(42.0, 68.69811320754717)\\n']\n",
      "4\n",
      "['VertexForce0:(-958, -4834)\\n', 'VertexForce1:(1449, -3472)\\n', 'VertexForce2:(-3120, 3597)\\n', 'VertexForce3:(3517, 3118)\\n', 'VertexForce4:(4320, -2949)\\n', 'VertexForce5:(-1395, -1750)\\n', 'VertexForce6:(-4482, 3336)\\n', 'VertexForce7:(3530, -1902)\\n', 'VertexForce8:(2586, 1549)\\n', 'VertexForce9:(4026, -4507)\\n', 'VertexForce10:(-3802, 3005)\\n', 'VertexForce11:(-3604, 3682)\\n', 'VertexForce12:(-4189, -1951)\\n', 'EdgeForce0:(49.509433962264154, -86.56603773584905)\\n', 'EdgeForce1:(66.47272727272727, 89.94545454545455)\\n', 'EdgeForce2:(-137.0, 61.41935483870968)\\n', 'EdgeForce3:(-77.52173913043478, 68.15217391304348)\\n', 'EdgeForce4:(701.1428571428571, -650.0)\\n', 'EdgeForce5:(17.654545454545456, -18.272727272727273)\\n']\n",
      "input.png\n",
      "outline.png\n",
      "3\n",
      "['VertexForce0:(-3365, 1485)\\n', 'VertexForce1:(-3492, 3531)\\n', 'VertexForce2:(-659, -2266)\\n', 'VertexForce3:(-1157, 2556)\\n', 'VertexForce4:(3003, 611)\\n', 'VertexForce5:(-3177, -1701)\\n', 'VertexForce6:(2656, -2018)\\n', 'VertexForce7:(-4280, 3157)\\n', 'VertexForce8:(-1375, 4193)\\n', 'VertexForce9:(2081, -3281)\\n', 'VertexForce10:(-3659, -1026)\\n', 'VertexForce11:(3231, -540)\\n', 'VertexForce12:(1021, 4539)\\n', 'VertexForce13:(-3964, 2968)\\n', 'EdgeForce0:(330.7142857142857, -685.0)\\n', 'EdgeForce1:(-95.89285714285714, 67.46428571428571)\\n', 'EdgeForce2:(-43.18867924528302, -58.679245283018865)\\n', 'EdgeForce3:(-61.95454545454545, -81.56818181818181)\\n', 'EdgeForce4:(-9.818181818181818, -54.49090909090909)\\n', 'EdgeForce5:(-226.1, 278.3)\\n']\n",
      "2\n",
      "['VertexForce0:(1167, -1444)\\n', 'VertexForce1:(-1487, -1087)\\n', 'EdgeForce0:(-66.0, -49.0)\\n']\n"
     ]
    }
   ],
   "source": [
    "import os\n",
    "datadir = 'data/sample_4'\n",
    "# iterate through all files named magnitude.txt in the datadir\n",
    "for platedir in os.listdir(datadir):\n",
    "    print(platedir)\n",
    "    for conditiondir in os.listdir(os.path.join(datadir, platedir)):\n",
    "        print(conditiondir)\n",
    "        if not os.path.isdir(os.path.join(datadir, platedir, conditiondir)):\n",
    "            continue\n",
    "        for filename in os.listdir(os.path.join(datadir, platedir, conditiondir)):\n",
    "            if filename == 'magnitudes.txt':\n",
    "                # replace the first comma of every line that starts with VertexForce with a :\n",
    "                with open(os.path.join(datadir, platedir, conditiondir, filename), 'r') as f:\n",
    "                    lines = f.readlines()\n",
    "                    print(lines)\n",
    "                with open(os.path.join(datadir, platedir, conditiondir, filename), 'w') as f:\n",
    "                    for line in lines:\n",
    "                        if line.startswith('VertexForce'):\n",
    "                            f.write(line.replace(',', ':', 1))\n",
    "                        else:\n",
    "                            f.write(line)"
   ]
  }
 ],
 "metadata": {
  "kernelspec": {
   "display_name": "fea",
   "language": "python",
   "name": "python3"
  },
  "language_info": {
   "codemirror_mode": {
    "name": "ipython",
    "version": 3
   },
   "file_extension": ".py",
   "mimetype": "text/x-python",
   "name": "python",
   "nbconvert_exporter": "python",
   "pygments_lexer": "ipython3",
   "version": "3.8.17"
  },
  "orig_nbformat": 4
 },
 "nbformat": 4,
 "nbformat_minor": 2
}
