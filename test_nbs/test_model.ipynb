{
 "cells": [
  {
   "cell_type": "code",
   "execution_count": 1,
   "metadata": {},
   "outputs": [
    {
     "name": "stderr",
     "output_type": "stream",
     "text": [
      "/home/namanwsl/anaconda3/envs/fea/lib/python3.8/site-packages/tqdm/auto.py:21: TqdmWarning: IProgress not found. Please update jupyter and ipywidgets. See https://ipywidgets.readthedocs.io/en/stable/user_install.html\n",
      "  from .autonotebook import tqdm as notebook_tqdm\n"
     ]
    }
   ],
   "source": [
    "from model.diffusion import Trainer\n",
    "from model.unet import UNet"
   ]
  },
  {
   "cell_type": "code",
   "execution_count": 2,
   "metadata": {},
   "outputs": [],
   "source": [
    "model = UNet(\n",
    "    input_dim=64,\n",
    "    num_channels=2, # geometry/displacement (2)\n",
    "    num_condition_channels=4, # constraints (1) + force (2)\n",
    ")"
   ]
  },
  {
   "cell_type": "code",
   "execution_count": 3,
   "metadata": {},
   "outputs": [
    {
     "name": "stdout",
     "output_type": "stream",
     "text": [
      "35713538\n"
     ]
    }
   ],
   "source": [
    "# Number of parameters\n",
    "print(sum(p.numel() for p in model.parameters() if p.requires_grad))"
   ]
  },
  {
   "cell_type": "code",
   "execution_count": 4,
   "metadata": {},
   "outputs": [],
   "source": [
    "trainer = Trainer(\n",
    "    model=model,\n",
    "    dataset_folder='data/feadata2500',\n",
    "    use_dataset_augmentation=True,\n",
    "    sample_dataset_folder='data/sample_1/',\n",
    "    num_sample_conditions_per_plate=1,\n",
    "    dataset_image_size=256,\n",
    "    train_batch_size=1,\n",
    "    train_learning_rate=1e-4,\n",
    "    num_train_steps=16,\n",
    "    num_gradient_accumulation_steps=16,\n",
    "    num_steps_per_milestone=1,\n",
    "    ema_steps_per_milestone=1,\n",
    "    results_folder='results',\n",
    "    use_batch_split_over_devices=True,\n",
    ")\n",
    "trainer = Trainer(\n",
    "    model=model,\n",
    "    dataset_folder='data/feadata2500',\n",
    "    use_dataset_augmentation=True,\n",
    "    sample_dataset_folder='data/sample_1/',\n",
    "    num_sample_conditions_per_plate=1,\n",
    "    dataset_image_size=256,\n",
    "    train_batch_size=8,\n",
    "    train_learning_rate=1e-4,\n",
    "    num_train_steps=16,\n",
    "    num_gradient_accumulation_steps=2,\n",
    "    num_steps_per_milestone=1,\n",
    "    ema_steps_per_milestone=1,\n",
    "    results_folder='results',\n",
    "    use_batch_split_over_devices=True,\n",
    ")\n",
    "# each effective batch (number of samples that are used for updating the loss once) is train_batch_size * num_gradient_accumulation_steps\n",
    "# hence to go over the entire dataset once, we need len(dataset) / (train_batch_size * num_gradient_accumulation_steps) steps = len(train_dataloader) / num_gradient_accumulation_steps steps"
   ]
  },
  {
   "cell_type": "code",
   "execution_count": 5,
   "metadata": {},
   "outputs": [
    {
     "name": "stdout",
     "output_type": "stream",
     "text": [
      "Epoch Size: 6250.0\n",
      "Number of Epochs: 0.00256\n"
     ]
    },
    {
     "name": "stderr",
     "output_type": "stream",
     "text": [
      "loss: 0.6173: 100%|██████████| 16/16 [04:51<00:00, 18.20s/it]\n"
     ]
    },
    {
     "name": "stdout",
     "output_type": "stream",
     "text": [
      "Training done!\n"
     ]
    }
   ],
   "source": [
    "trainer.train()"
   ]
  }
 ],
 "metadata": {
  "kernelspec": {
   "display_name": "fea",
   "language": "python",
   "name": "python3"
  },
  "language_info": {
   "codemirror_mode": {
    "name": "ipython",
    "version": 3
   },
   "file_extension": ".py",
   "mimetype": "text/x-python",
   "name": "python",
   "nbconvert_exporter": "python",
   "pygments_lexer": "ipython3",
   "version": "3.8.17"
  },
  "orig_nbformat": 4
 },
 "nbformat": 4,
 "nbformat_minor": 2
}
