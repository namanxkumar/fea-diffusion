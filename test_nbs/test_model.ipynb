{
 "cells": [
  {
   "cell_type": "code",
   "execution_count": 1,
   "metadata": {},
   "outputs": [
    {
     "name": "stderr",
     "output_type": "stream",
     "text": [
      "/home/namanwsl/anaconda3/envs/fea/lib/python3.8/site-packages/tqdm/auto.py:21: TqdmWarning: IProgress not found. Please update jupyter and ipywidgets. See https://ipywidgets.readthedocs.io/en/stable/user_install.html\n",
      "  from .autonotebook import tqdm as notebook_tqdm\n"
     ]
    }
   ],
   "source": [
    "from model.diffusion import Trainer\n",
    "# from model.unet import UNet\n",
    "# from model.fdnunet import FDNUNet\n",
    "from model.fdnunetwithaux import create_models"
   ]
  },
  {
   "cell_type": "code",
   "execution_count": 2,
   "metadata": {},
   "outputs": [],
   "source": [
    "# model = UNet(\n",
    "#     input_dim=96,\n",
    "#     num_channels=2, # geometry/displacement (2)\n",
    "#     num_condition_channels=3, # constraints (1) + force (2)\n",
    "# )"
   ]
  },
  {
   "cell_type": "code",
   "execution_count": 3,
   "metadata": {},
   "outputs": [],
   "source": [
    "# model = FDNUNet(\n",
    "#     input_dim=64,\n",
    "#     num_channels=2, # geometry/displacement (2)\n",
    "#     # num_condition_channels=1, # geometry (1)\n",
    "#     num_auxiliary_condition_channels=3, # constraints (1) + force (2)\n",
    "#     num_stages=4\n",
    "# )"
   ]
  },
  {
   "cell_type": "code",
   "execution_count": 4,
   "metadata": {},
   "outputs": [],
   "source": [
    "encoder, decoder, auxiliary = create_models(\n",
    "    input_dim=64,\n",
    "    image_height=64,\n",
    "    image_width=64,\n",
    "    num_channels=2,  # materials (2)\n",
    "    # num_condition_channels=1, # geometry (1)\n",
    "    num_auxiliary_condition_channels=3,  # constraints (1) + force (2)\n",
    "    num_stages=4,\n",
    ")"
   ]
  },
  {
   "cell_type": "code",
   "execution_count": 5,
   "metadata": {},
   "outputs": [],
   "source": [
    "# Number of parameters\n",
    "# print(sum(p.numel() for p in model.parameters() if p.requires_grad))"
   ]
  },
  {
   "cell_type": "code",
   "execution_count": 6,
   "metadata": {},
   "outputs": [],
   "source": [
    "# print(model)"
   ]
  },
  {
   "cell_type": "code",
   "execution_count": 12,
   "metadata": {},
   "outputs": [],
   "source": [
    "trainer = Trainer(\n",
    "    encoder=encoder,\n",
    "    decoder=decoder,\n",
    "    auxiliary=auxiliary,\n",
    "    disable_auxiliary=False,\n",
    "    only_auxiliary=False,\n",
    "    dataset_folder=\"data/data4016to5000/\",\n",
    "    sample_dataset_folder=\"data/data4016to5000/\",\n",
    "    train_start_plate_index=4016,\n",
    "    sample_start_plate_index=4016,\n",
    "    num_sample_conditions_per_plate=4,\n",
    "    dataset_image_size=64,\n",
    "    num_steps_per_condition=6,\n",
    "    num_steps_per_sample_condition=6,\n",
    "    train_batch_size=1,\n",
    "    train_learning_rate=1e-4,\n",
    "    num_train_steps=1,\n",
    "    num_gradient_accumulation_steps=16,\n",
    "    num_steps_per_milestone=1,\n",
    "    # ema_steps_per_milestone=1,\n",
    "    results_folder=\"results\",\n",
    "    use_batch_split_over_devices=True,\n",
    ")\n",
    "# trainer = Trainer(\n",
    "#     model=model,\n",
    "#     dataset_folder='data/feadata2500',\n",
    "#     use_dataset_augmentation=True,\n",
    "#     sample_dataset_folder='data/sample_1/',\n",
    "#     num_sample_conditions_per_plate=1,\n",
    "#     dataset_image_size=256,\n",
    "#     train_batch_size=8,\n",
    "#     train_learning_rate=1e-4,\n",
    "#     num_train_steps=16,\n",
    "#     num_gradient_accumulation_steps=2,\n",
    "#     num_steps_per_milestone=1,\n",
    "#     ema_steps_per_milestone=1,\n",
    "#     results_folder='results',\n",
    "#     use_batch_split_over_devices=True,\n",
    "# )\n",
    "# each effective batch (number of samples that are used for updating the loss once) is train_batch_size * num_gradient_accumulation_steps\n",
    "# hence to go over the entire dataset once, we need len(dataset) / (train_batch_size * num_gradient_accumulation_steps) steps = len(train_dataloader) / num_gradient_accumulation_steps steps"
   ]
  },
  {
   "cell_type": "code",
   "execution_count": 8,
   "metadata": {},
   "outputs": [],
   "source": [
    "# trainer.load_checkpoint(\"final\")"
   ]
  },
  {
   "cell_type": "code",
   "execution_count": 13,
   "metadata": {},
   "outputs": [
    {
     "name": "stdout",
     "output_type": "stream",
     "text": [
      "Epoch Size: 7.5 effective batches\n",
      "Number of Effective Epochs: 0.13333333333333333\n"
     ]
    },
    {
     "name": "stderr",
     "output_type": "stream",
     "text": [
      "loss: 13.2385 : 100%|██████████| 1/1 [00:17<00:00, 17.91s/it]\n"
     ]
    },
    {
     "name": "stdout",
     "output_type": "stream",
     "text": [
      "Training done!\n"
     ]
    }
   ],
   "source": [
    "trainer.train()"
   ]
  }
 ],
 "metadata": {
  "kernelspec": {
   "display_name": "fea",
   "language": "python",
   "name": "python3"
  },
  "language_info": {
   "codemirror_mode": {
    "name": "ipython",
    "version": 3
   },
   "file_extension": ".py",
   "mimetype": "text/x-python",
   "name": "python",
   "nbconvert_exporter": "python",
   "pygments_lexer": "ipython3",
   "version": "3.8.17"
  },
  "orig_nbformat": 4
 },
 "nbformat": 4,
 "nbformat_minor": 2
}
