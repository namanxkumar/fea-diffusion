{
 "cells": [
  {
   "cell_type": "code",
   "execution_count": 1,
   "metadata": {},
   "outputs": [],
   "source": [
    "from metrics.accuracy_function import calculate_predicted_displacement_at_nodes\n",
    "import meshio\n",
    "import numpy as np"
   ]
  },
  {
   "cell_type": "code",
   "execution_count": 2,
   "metadata": {},
   "outputs": [
    {
     "name": "stdout",
     "output_type": "stream",
     "text": [
      "<meshio mesh object>\n",
      "  Number of points: 5753\n",
      "  Number of cells:\n",
      "    triangle: 10829\n",
      "  Point data: u, node_groups\n",
      "  Cell data: cauchy_strain, cauchy_stress, mat_id\n"
     ]
    }
   ],
   "source": [
    "mesh = meshio.read(\"data/accuracydatagen/1/1/domain.1.vtk\")\n",
    "print(mesh)"
   ]
  },
  {
   "cell_type": "code",
   "execution_count": 3,
   "metadata": {},
   "outputs": [
    {
     "name": "stdout",
     "output_type": "stream",
     "text": [
      "(16, 1)\n",
      "(15, 1)\n"
     ]
    }
   ],
   "source": [
    "points = mesh.points\n",
    "cells = [(\"triangle\", mesh.cells[0].data)]\n",
    "displacement = np.concatenate(\n",
    "    (\n",
    "        calculate_predicted_displacement_at_nodes(\n",
    "            \"data/accuracydatagen/1/1/domain.1.vtk\",\n",
    "            \"results/accuracygeneratedresults256/1/1/sample_x_1.png\",\n",
    "            \"results/accuracygeneratedresults256/1/1/sample_y_1.png\",\n",
    "            \"data/accuracydatagen/1/input.png\",\n",
    "            256,\n",
    "        ),\n",
    "        np.zeros((points.shape[0], 1)),\n",
    "    ),\n",
    "    axis=1,\n",
    ")\n",
    "# print(displacement.shape)\n",
    "mesh = meshio.Mesh(\n",
    "    points=points,\n",
    "    cells=cells,\n",
    "    point_data={\n",
    "        \"u\": displacement,\n",
    "        \"node_groups\": mesh.point_data['node_groups']\n",
    "    },\n",
    "    cell_data={\n",
    "        \"mat_id\": mesh.cell_data[\"mat_id\"],\n",
    "    }\n",
    ")\n",
    "mesh.write(\"test.vtk\")"
   ]
  }
 ],
 "metadata": {
  "kernelspec": {
   "display_name": "fea",
   "language": "python",
   "name": "python3"
  },
  "language_info": {
   "codemirror_mode": {
    "name": "ipython",
    "version": 3
   },
   "file_extension": ".py",
   "mimetype": "text/x-python",
   "name": "python",
   "nbconvert_exporter": "python",
   "pygments_lexer": "ipython3",
   "version": "3.8.17"
  },
  "orig_nbformat": 4
 },
 "nbformat": 4,
 "nbformat_minor": 2
}
