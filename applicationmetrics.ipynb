{
 "cells": [
  {
   "cell_type": "code",
   "execution_count": 3,
   "metadata": {},
   "outputs": [],
   "source": [
    "from metrics.accuracy_function import calculate_accuracy_for_one_sample"
   ]
  },
  {
   "cell_type": "code",
   "execution_count": 4,
   "metadata": {},
   "outputs": [
    {
     "name": "stdout",
     "output_type": "stream",
     "text": [
      "(0.010838270699650645, 0.0004016722781866036, 0.02004176335022953)\n"
     ]
    }
   ],
   "source": [
    "print(\n",
    "    calculate_accuracy_for_one_sample(\n",
    "        \"applications/cantilever/cantilever.vtk\",\n",
    "        \"applications/cantilever/predicted_displacement_x.png\",\n",
    "        \"applications/cantilever/predicted_displacement_y.png\",\n",
    "        \"applications/cantilever/geometry.png\",\n",
    "        256,\n",
    "    )\n",
    ")"
   ]
  }
 ],
 "metadata": {
  "kernelspec": {
   "display_name": "fea",
   "language": "python",
   "name": "python3"
  },
  "language_info": {
   "codemirror_mode": {
    "name": "ipython",
    "version": 3
   },
   "file_extension": ".py",
   "mimetype": "text/x-python",
   "name": "python",
   "nbconvert_exporter": "python",
   "pygments_lexer": "ipython3",
   "version": "3.8.17"
  },
  "orig_nbformat": 4
 },
 "nbformat": 4,
 "nbformat_minor": 2
}
