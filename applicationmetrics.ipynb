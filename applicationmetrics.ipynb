{
 "cells": [
  {
   "cell_type": "code",
   "execution_count": 1,
   "metadata": {},
   "outputs": [],
   "source": [
    "from metrics.accuracy_function_qualitative import calculate_accuracy_for_one_sample"
   ]
  },
  {
   "cell_type": "code",
   "execution_count": 4,
   "metadata": {},
   "outputs": [
    {
     "name": "stdout",
     "output_type": "stream",
     "text": [
      "(0.020367641074984684, 0.0015748350384692789, 0.03968419129161232, 0.9690434569965649)\n"
     ]
    }
   ],
   "source": [
    "print(\n",
    "    calculate_accuracy_for_one_sample(\n",
    "       \"applications/shearblade/predicted_displacement_x.png\",\n",
    "        \"applications/shearblade/predicted_displacement_y.png\",\n",
    "        \"applications/shearblade/displacement_x.png\",\n",
    "        \"applications/shearblade/displacement_y.png\",\n",
    "        256,\n",
    "    )\n",
    ")"
   ]
  },
  {
   "cell_type": "code",
   "execution_count": 5,
   "metadata": {},
   "outputs": [
    {
     "name": "stdout",
     "output_type": "stream",
     "text": [
      "(0.035123159371170345, 0.013548293474865436, 0.11639713688431273, 0.9180011708447484)\n"
     ]
    }
   ],
   "source": [
    "print(\n",
    "    calculate_accuracy_for_one_sample(\n",
    "       \"applications/cantilever/predicted_displacement_x.png\",\n",
    "        \"applications/cantilever/predicted_displacement_y.png\",\n",
    "        \"applications/cantilever/displacement_x.png\",\n",
    "        \"applications/cantilever/displacement_y.png\",\n",
    "        256,\n",
    "    )\n",
    ")"
   ]
  }
 ],
 "metadata": {
  "kernelspec": {
   "display_name": "fea",
   "language": "python",
   "name": "python3"
  },
  "language_info": {
   "codemirror_mode": {
    "name": "ipython",
    "version": 3
   },
   "file_extension": ".py",
   "mimetype": "text/x-python",
   "name": "python",
   "nbconvert_exporter": "python",
   "pygments_lexer": "ipython3",
   "version": "3.8.18"
  },
  "orig_nbformat": 4
 },
 "nbformat": 4,
 "nbformat_minor": 2
}
